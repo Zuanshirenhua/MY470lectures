{
 "cells": [
  {
   "cell_type": "markdown",
   "metadata": {
    "slideshow": {
     "slide_type": "slide"
    }
   },
   "source": [
    "### MY470 Computer Programming\n",
    "# Writing and Calling Functions in Python\n",
    "### Week 4 Lab"
   ]
  },
  {
   "cell_type": "markdown",
   "metadata": {
    "slideshow": {
     "slide_type": "slide"
    }
   },
   "source": [
    "## Defining and Calling Functions\n",
    "\n",
    "### Defining a function\n",
    "\n",
    "```\n",
    "def *function_name*(*list of parameters*):\n",
    "    *body of function*\n",
    "```\n",
    "\n",
    "### Calling a function\n",
    "\n",
    "```\n",
    "*function_name*(*arguments*)\n",
    "```\n",
    "\n",
    "### Functions can take 0 or more arguments and return 1 or more values!\n",
    "\n",
    "### If a function does not have `return` statement, it returns `None`."
   ]
  },
  {
   "cell_type": "markdown",
   "metadata": {
    "slideshow": {
     "slide_type": "slide"
    }
   },
   "source": [
    "## Functions Take Arguments by Reference"
   ]
  },
  {
   "cell_type": "code",
   "execution_count": 1,
   "metadata": {
    "slideshow": {
     "slide_type": "-"
    }
   },
   "outputs": [
    {
     "name": "stdout",
     "output_type": "stream",
     "text": [
      "[1, 2, 3, 0]\n"
     ]
    }
   ],
   "source": [
    "def change_list(alist):\n",
    "    alist.append(0)\n",
    "\n",
    "mylist = [1, 2, 3]\n",
    "change_list(mylist)\n",
    "print(mylist)"
   ]
  },
  {
   "cell_type": "code",
   "execution_count": 1,
   "metadata": {
    "scrolled": true,
    "slideshow": {
     "slide_type": "fragment"
    }
   },
   "outputs": [
    {
     "name": "stdout",
     "output_type": "stream",
     "text": [
      "[1, 2, 3]\n"
     ]
    }
   ],
   "source": [
    "def zero_list(alist):\n",
    "    \"\"\"Takes a list and returns another list of the same length \n",
    "    that looks like [0, 0, 0, ...].\n",
    "    \"\"\"\n",
    "    alist = [0]*len(alist)  # Creates a new local reference for alist\n",
    "\n",
    "mylist = [1, 2, 3]\n",
    "zero_list(mylist)\n",
    "print(mylist)"
   ]
  },
  {
   "cell_type": "code",
   "execution_count": 10,
   "metadata": {
    "collapsed": true,
    "slideshow": {
     "slide_type": "fragment"
    }
   },
   "outputs": [
    {
     "name": "stdout",
     "output_type": "stream",
     "text": [
      "[0, 0, 0]\n"
     ]
    }
   ],
   "source": [
    "# Exercise 1: Rewrite the function definition and call above \n",
    "# to accomplish what the function intends to do.\n",
    "\n",
    "def zero_list(alist):\n",
    "    \"\"\"Takes a list and returns another list of the same length \n",
    "    that looks like [0, 0, 0, ...].\n",
    "    \"\"\"\n",
    "    new_list = []\n",
    "    for i in range(len(alist)):\n",
    "        new_list.append(0)   # Creates a new local reference for alist\n",
    "    return new_list\n",
    "\n",
    "mylist = [1, 2, 3]\n",
    "print(zero_list(mylist))"
   ]
  },
  {
   "cell_type": "markdown",
   "metadata": {
    "slideshow": {
     "slide_type": "slide"
    }
   },
   "source": [
    "## Using Docstrings (String Literals) to Specify Functions\n"
   ]
  },
  {
   "cell_type": "code",
   "execution_count": 4,
   "metadata": {
    "scrolled": true,
    "slideshow": {
     "slide_type": "-"
    }
   },
   "outputs": [
    {
     "name": "stdout",
     "output_type": "stream",
     "text": [
      "Help on function f in module __main__:\n",
      "\n",
      "f(x, y)\n",
      "    Demonstrates the importance of providing specification for functions.\n",
      "    Assumes x and y any type.\n",
      "    Returns nothing.\n",
      "\n"
     ]
    }
   ],
   "source": [
    "def f(x, y):\n",
    "    \"\"\"Demonstrates the importance of providing specification for functions.\n",
    "    Assumes x and y any type.\n",
    "    Returns nothing.\n",
    "    \"\"\"\n",
    "    pass\n",
    "\n",
    "help(f)"
   ]
  },
  {
   "cell_type": "markdown",
   "metadata": {
    "slideshow": {
     "slide_type": "fragment"
    }
   },
   "source": [
    "![Commenting](figs/commenting.jpg \"Commenting\")"
   ]
  },
  {
   "cell_type": "markdown",
   "metadata": {
    "slideshow": {
     "slide_type": "slide"
    }
   },
   "source": [
    "## Using Functions Instead of Copy-Pasting Code"
   ]
  },
  {
   "cell_type": "code",
   "execution_count": 5,
   "metadata": {
    "slideshow": {
     "slide_type": "-"
    }
   },
   "outputs": [
    {
     "name": "stdout",
     "output_type": "stream",
     "text": [
      "Alan Turing was a mathematician.\n",
      "Richard Feynman was a physicist.\n",
      "Marie Curie was a chemist.\n",
      "Charles Darwin was a biologist.\n",
      "Ada Lovelace was a mathematician.\n",
      "Werner Heisenberg was a physicist.\n"
     ]
    }
   ],
   "source": [
    "# Consider the following code:\n",
    "\n",
    "# Print the name and profession of famous dead scientists:\n",
    "print('Alan Turing was a mathematician.')\n",
    "print('Richard Feynman was a physicist.')\n",
    "print('Marie Curie was a chemist.')\n",
    "print('Charles Darwin was a biologist.')\n",
    "print('Ada Lovelace was a mathematician.')\n",
    "print('Werner Heisenberg was a physicist.')"
   ]
  },
  {
   "cell_type": "code",
   "execution_count": 21,
   "metadata": {
    "collapsed": true,
    "slideshow": {
     "slide_type": "-"
    }
   },
   "outputs": [
    {
     "name": "stdout",
     "output_type": "stream",
     "text": [
      "Alan Turingwas a mathematician\n",
      "Richard Feynmanwas a physicist\n",
      "Marie Curiewas a chemist\n",
      "Charles Darwinwas a biologist\n",
      "Ada Lovelacewas a mathematician\n",
      "Werner Heisenbergwas a physicist\n"
     ]
    }
   ],
   "source": [
    "# Exercise 2: Rewrite the code using a function and a suitable data structure.\n",
    "\n",
    "def dead_scientist(name, profession):\n",
    "    for i in range(len(name)):\n",
    "        print(name[i]+ \"was a \" + profession[i])\n",
    "\n",
    "\n",
    "scientist_name =  [\"Alan Turing\", \"Richard Feynman\", \"Marie Curie\", \"Charles Darwin\", \"Ada Lovelace\", \"Werner Heisenberg\"]\n",
    "profession_list = [\"mathematician\", \"physicist\", \"chemist\", \"biologist\", \"mathematician\", \"physicist\"]\n",
    "\n",
    "dead_scientist(scientist_name, profession_list)\n"
   ]
  },
  {
   "cell_type": "markdown",
   "metadata": {
    "slideshow": {
     "slide_type": "slide"
    }
   },
   "source": [
    "## Using Functions to Improve Legibility and Modularity"
   ]
  },
  {
   "cell_type": "code",
   "execution_count": 23,
   "metadata": {
    "slideshow": {
     "slide_type": "-"
    }
   },
   "outputs": [
    {
     "name": "stdout",
     "output_type": "stream",
     "text": [
      "8.860022573334675\n"
     ]
    }
   ],
   "source": [
    "# Consider the following code:\n",
    "\n",
    "# You are given two points in 2-D space\n",
    "x = (1, 1)\n",
    "y = (5, 4)\n",
    "\n",
    "# Calculate the area of the circle if one of the points is the circle center \n",
    "# and the other is on the perimeter and then calculate the side of the square \n",
    "# with the same area\n",
    "r_sq = (x[0] - y[0])**2 + (x[1] - y[1])**2\n",
    "area = 3.14*r_sq\n",
    "sq_side = area**0.5\n",
    "print(sq_side)\n"
   ]
  },
  {
   "cell_type": "code",
   "execution_count": 24,
   "metadata": {
    "collapsed": true,
    "slideshow": {
     "slide_type": "-"
    }
   },
   "outputs": [
    {
     "name": "stdout",
     "output_type": "stream",
     "text": [
      "8.860022573334675\n"
     ]
    }
   ],
   "source": [
    "# Exercise 3: Rewrite the code above using functions \n",
    "# to make it easier to read.\n",
    "\n",
    "def square_side(circle_centre, perimeter):\n",
    "    r_square = (circle_centre[0] - perimeter[0])**2 + (circle_centre[1] - perimeter[1])**2\n",
    "    area = 3.14*r_square\n",
    "    square_side = area**0.5\n",
    "    return square_side\n",
    "\n",
    "print(square_side(x,y))"
   ]
  },
  {
   "cell_type": "markdown",
   "metadata": {
    "slideshow": {
     "slide_type": "slide"
    }
   },
   "source": [
    "## Using Functions Inside List Comprehensions"
   ]
  },
  {
   "cell_type": "code",
   "execution_count": 4,
   "metadata": {
    "slideshow": {
     "slide_type": "-"
    }
   },
   "outputs": [
    {
     "name": "stdout",
     "output_type": "stream",
     "text": [
      "[25, 16, 9, 4, 1, 0.0, 1.0, 1.4142135623730951, 1.7320508075688772, 2.0, 2.23606797749979]\n"
     ]
    }
   ],
   "source": [
    "def sq_or_sqrt(x):\n",
    "    \"\"\"Assumes x is numeric. Returns the square of x if x is negative\n",
    "    and the square root of x if x is nonnegative.\n",
    "    \"\"\"\n",
    "    if x < 0:\n",
    "        return x**2\n",
    "    else:\n",
    "        return x**0.5\n",
    "\n",
    "lst = [sq_or_sqrt(i) for i in range(-5, 6)]\n",
    "print(lst)\n"
   ]
  },
  {
   "cell_type": "code",
   "execution_count": 28,
   "metadata": {
    "collapsed": true,
    "slideshow": {
     "slide_type": "-"
    }
   },
   "outputs": [
    {
     "name": "stdout",
     "output_type": "stream",
     "text": [
      "[None, None, 2, 178, None, 12, None, None, 12]\n"
     ]
    }
   ],
   "source": [
    "# Exercise 4: Using a function and a list comprehension, \n",
    "# create a new list that has the numbers from testlist \n",
    "# if they are positive and None otherwise\n",
    "\n",
    "testlist = [-1, 0, 2, 178, -17.2, 12, -2, -3, 12]\n",
    "\n",
    "def positive_number(list):\n",
    "    positive_number_list = [list[i] if list[i] > 0 else None for i in range(len(list)) ]\n",
    "    return positive_number_list\n",
    "\n",
    "print(positive_number(testlist))\n",
    "\n"
   ]
  },
  {
   "cell_type": "code",
   "execution_count": 29,
   "metadata": {
    "collapsed": true,
    "slideshow": {
     "slide_type": "-"
    }
   },
   "outputs": [
    {
     "name": "stdout",
     "output_type": "stream",
     "text": [
      "[None, 0.0, None, 89.0, -1.4333333333333333, 24.0, None, -12.0, None]\n"
     ]
    }
   ],
   "source": [
    "# Exercise 5: Using a function and a list comprehension, create \n",
    "# a new list that includes the result from dividing each number \n",
    "# from testlist1 by the corresponding number in testlist2; \n",
    "# For the cases when the divisor is 0, the new list should include None\n",
    "\n",
    "testlist1 = [-1, 0, 2, 178, -17.2, 12, -2, -3, 12]\n",
    "testlist2 = [0, 5, 0, 2, 12, 0.5, 0, 0.25, 0]\n",
    "\n",
    "def divide(list1, list2):\n",
    "    divided_list = [list1[i]/list2[i] if list2[i] != 0 else None for i in range(len(list1))]\n",
    "    return divided_list\n",
    "\n",
    "print(divide(testlist1, testlist2))\n"
   ]
  },
  {
   "cell_type": "markdown",
   "metadata": {
    "slideshow": {
     "slide_type": "slide"
    }
   },
   "source": [
    "## Using Functions For General Cases"
   ]
  },
  {
   "cell_type": "code",
   "execution_count": 35,
   "metadata": {
    "collapsed": true,
    "slideshow": {
     "slide_type": "-"
    }
   },
   "outputs": [
    {
     "name": "stdout",
     "output_type": "stream",
     "text": [
      "It is a palidrome.\n"
     ]
    }
   ],
   "source": [
    "# Exercise 6: Write a Python function that checks if a string \n",
    "# is a palindrome. A palindrome is a word or a phrase that reads \n",
    "# the same backward as forward. For example, redder, nurses run, dad...\n",
    "\n",
    "def palindrome(word):\n",
    "    reverse_word = word[::-1]\n",
    "    if reverse_word == word:\n",
    "        return \"It is a palidrome.\"\n",
    "    else:\n",
    "        return \"It is NOT a palidrome.\"\n",
    "\n",
    "test_word = input(\"please entre a word to see if it is a palindrome.\")\n",
    "print(palindrome(test_word))"
   ]
  }
 ],
 "metadata": {
  "celltoolbar": "Slideshow",
  "kernelspec": {
   "display_name": "Python 3",
   "language": "python",
   "name": "python3"
  },
  "language_info": {
   "codemirror_mode": {
    "name": "ipython",
    "version": 3
   },
   "file_extension": ".py",
   "mimetype": "text/x-python",
   "name": "python",
   "nbconvert_exporter": "python",
   "pygments_lexer": "ipython3",
   "version": "3.12.0"
  }
 },
 "nbformat": 4,
 "nbformat_minor": 2
}
